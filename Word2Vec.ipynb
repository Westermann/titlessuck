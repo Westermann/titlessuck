{
 "cells": [
  {
   "cell_type": "code",
   "execution_count": 48,
   "metadata": {
    "autoscroll": false,
    "collapsed": false,
    "ein.tags": "worksheet-0",
    "slideshow": {
     "slide_type": "-"
    }
   },
   "outputs": [],
   "source": [
    "import numpy as np"
   ]
  },
  {
   "cell_type": "code",
   "execution_count": 2,
   "metadata": {
    "autoscroll": false,
    "collapsed": false,
    "ein.tags": "worksheet-0",
    "slideshow": {
     "slide_type": "-"
    }
   },
   "outputs": [],
   "source": [
    "from gensim.corpora import TextCorpus, MmCorpus\n",
    "\n",
    "# override corpus with your own tokenizer for trial/error\n",
    "list(utils.tokenize(\"energetic outdoors wilderness independence alone\"))\n",
    "\n",
    "corpus = TextCorpus('./descriptions')\n",
    "corpus.dictionary.filter_extremes(no_below=4, no_above=1, keep_n=10000)"
   ]
  },
  {
   "cell_type": "code",
   "execution_count": 4,
   "metadata": {
    "autoscroll": false,
    "collapsed": false,
    "ein.tags": "worksheet-0",
    "slideshow": {
     "slide_type": "-"
    }
   },
   "outputs": [],
   "source": [
    "# Create TFIDF\n",
    "from gensim.models.tfidfmodel import TfidfModel\n",
    "tfidf = TfidfModel(corpus)"
   ]
  },
  {
   "cell_type": "code",
   "execution_count": 5,
   "metadata": {
    "autoscroll": false,
    "collapsed": false,
    "ein.tags": "worksheet-0",
    "slideshow": {
     "slide_type": "-"
    }
   },
   "outputs": [
    {
     "data": {
      "text/plain": [
       "[(408, 0.8354795905157336), (3606, 0.5495214771341174)]"
      ]
     },
     "execution_count": 5,
     "metadata": {},
     "output_type": "execute_result"
    }
   ],
   "source": [
    "from gensim import utils\n",
    "\n",
    "# get the BOW (TF) for a doc\n",
    "tf = corpus.dictionary.doc2bow(utils.tokenize(\"energetic outdoors wilderness independence alone\"))\n",
    "tfidf[tf]"
   ]
  },
  {
   "cell_type": "code",
   "execution_count": 13,
   "metadata": {
    "autoscroll": false,
    "collapsed": false,
    "ein.tags": "worksheet-0",
    "slideshow": {
     "slide_type": "-"
    }
   },
   "outputs": [],
   "source": [
    "from gensim.models.word2vec import Word2Vec\n",
    "\n",
    "# create way to get iterable of sentences from corpus class...\n",
    "sentences = [list(g) for g in list(corpus.get_texts())]\n",
    "word = Word2Vec(sentences, size=100, window=5, min_count=5, workers=4)"
   ]
  },
  {
   "cell_type": "code",
   "execution_count": null,
   "metadata": {
    "autoscroll": false,
    "collapsed": false,
    "ein.tags": "worksheet-0",
    "slideshow": {
     "slide_type": "-"
    }
   },
   "outputs": [],
   "source": [
    "word['energetic']\n",
    "word.most_similar(['independence'])"
   ]
  },
  {
   "cell_type": "code",
   "execution_count": 7,
   "metadata": {
    "autoscroll": false,
    "collapsed": false,
    "ein.tags": "worksheet-0",
    "slideshow": {
     "slide_type": "-"
    }
   },
   "outputs": [
    {
     "data": {
      "text/plain": [
       "37"
      ]
     },
     "execution_count": 7,
     "metadata": {},
     "output_type": "execute_result"
    }
   ],
   "source": [
    "i = corpus.dictionary.token2id['energetic']\n",
    "corpus.dictionary.dfs[i]"
   ]
  },
  {
   "cell_type": "code",
   "execution_count": 218,
   "metadata": {
    "autoscroll": false,
    "collapsed": false,
    "ein.tags": "worksheet-0",
    "slideshow": {
     "slide_type": "-"
    }
   },
   "outputs": [],
   "source": [
    "def sample(w, size = 50, pwr = 1.75):\n",
    "    t,f = w[:,0], w[:,1]**pwr\n",
    "    p = f/np.linalg.norm(f, 1)\n",
    "    return np.random.choice(t, size = size, replace = True, p = p)\n",
    "\n",
    "def doc_vec(w, model, corpus):\n",
    "    # TODO: deal with things not in vocabulary.... \n",
    "    vecs = [model[corpus.dictionary[x]] for x in sample(w)]\n",
    "    return np.mean(vecs, 0)    "
   ]
  },
  {
   "cell_type": "code",
   "execution_count": 221,
   "metadata": {
    "autoscroll": false,
    "collapsed": false,
    "ein.tags": "worksheet-0",
    "slideshow": {
     "slide_type": "-"
    }
   },
   "outputs": [
    {
     "data": {
      "text/plain": [
       "[(u'dong', 0.9712648391723633),\n (u'plants', 0.9571024179458618),\n (u'infrastructure', 0.9570093154907227),\n (u'lifetime', 0.9569708704948425),\n (u'grid', 0.9536604881286621),\n (u'oil', 0.9519029855728149),\n (u'utility', 0.9500812292098999),\n (u'utilities', 0.9490692615509033),\n (u'farms', 0.9473437070846558),\n (u'siting', 0.9447511434555054)]"
      ]
     },
     "execution_count": 221,
     "metadata": {},
     "output_type": "execute_result"
    }
   ],
   "source": [
    "doc = sentences[2]\n",
    "w = np.array(tfidf[corpus.dictionary.doc2bow(doc)])\n",
    "m = doc_vec(w, word, corpus)\n",
    "word.similar_by_vector(m)"
   ]
  },
  {
   "cell_type": "code",
   "execution_count": 166,
   "metadata": {
    "autoscroll": false,
    "collapsed": false,
    "ein.tags": "worksheet-0",
    "slideshow": {
     "slide_type": "-"
    }
   },
   "outputs": [
    {
     "data": {
      "text/plain": [
       "u'measurement manager for measurement campaigns on our offshore wind farmsdo you have excellent project management skills join us and become measurement manager in the measurements department together with your colleagues you will work closely with suppliers of wind sea state and structural load measurement equipment to ensure the best technologies for deployment at our wind farms we also work closely with stakeholders across the organisation including experts in wind and sea state assessment load analysis foundation design wtg technology and site classification on designing the best measurement campaigns for our offshore wind farms as part of the measurements team which counts employees you will manage projects for designing and implementing wind wave structural load and power curve measurement programs for utility scale wind farms you will be project manager for a team of specialists covering several highly specialised areas of expertise measurements is part of wind power which has employees and is one of four business units in dong energy wind power is the world s largest developer and operator of offshore wind power and we use our unique knowledge in all phases of our wind turbine projects during the last years we have developed and constructed the largest portfolio of offshore wind farms in northern europe you may choose freely to be based either at our office in sk\\xe6rb\\xe6k near fredericia or in gentofte in the greater copenhagen area or alternatively at our london office in the united kingdom on local terms and conditions however you should expect some travelling to our locations in denmark and abroad in relation to your work your key duties will be to take ownership of the assigned measurement projects be responsible for all aspects relating to your project including scope budget planning risks and safety be responsible for specification procurement installation and maintenance of measurement campaigns including wind wave structural load and power curve manage contractors and carry out stakeholder management of internal project teams across the organisation contribute to improving the processes within the measurements team moreover you will contribute actively to developing our knowledge base and participate in solving related development tasks and studies your qualifications and core competences include that you have a relevant education within engineering management or similar and excellent project management skills you are a seasoned project manager and used to working in complex matrix organisations speak and write english fluently are motivated by a steep learning curve on how we work thrive on working with multiple stakeholders with diverse backgrounds from across our business as a person you are open minded and you have the ability to find pragmatic solutions as well as the ability to prioritise your tasks during busy and challenging periods moreover you have excellent communication skills and are able to present results professionally to your colleagues and stakeholders you are accustomed to working in a multinational environment and have a deep cultural understanding and you are able to manage multiple tasks simultaneously in a timely and effective manner and keep the bigger picture in view at all times it is an advantage if you have knowledge of the full life cycle of offshore wind farm projects and experience with wind sea state and load measurement equipment such as lidars metocean buoys and strain gauges it is also beneficial if you have experience with managing contractors and installing equipment on site we offeran exciting and interesting job where your work will bring you new challenges continuously we are a team spanning a number of expertise areas we cover nine nationalities and come from diverse backgrounds in the department we place emphasis on creating a feedback culture and we focus especially on leadership processes and development of our employees competences we also focus on value creation by increasing the certainty of our measurements and improving the delivery of measured data to our various clients within the group in dong energy wind power we have a high level of expertise and many complex and challenging work tasks we work goal oriented and efficiently with some of the world s largest offshore wind projects and we are committed to reducing the cost of electricity contact usfor denmark please do not hesitate to contact anders thoft marcussen manager of measurements on telephone if you want to know more about the position for the united kingdom please do not hesitate to contact the recruitment specialist by email on ukrecruitment dongenergy co uk we look forward to receiving your application cv and diplomas as electronic files as soon as possible and no later than november as we will be conducting interviews on a continuous basis all uk based positions will be subject to satisfactory pre employment screening further details will be given at offer stage click on the button to submit your application'"
      ]
     },
     "execution_count": 166,
     "metadata": {},
     "output_type": "execute_result"
    }
   ],
   "source": [
    "' '.join(sentences[2])"
   ]
  },
  {
   "cell_type": "code",
   "execution_count": null,
   "metadata": {
    "autoscroll": false,
    "collapsed": false,
    "ein.tags": "worksheet-0",
    "slideshow": {
     "slide_type": "-"
    }
   },
   "outputs": [],
   "source": [
    "a = (np.array(t) for t in tfidf[corpus])\n"
   ]
  }
 ],
 "metadata": {
  "name": "Word2Vec.ipynb"
 },
 "nbformat": 4,
 "nbformat_minor": 2
}
