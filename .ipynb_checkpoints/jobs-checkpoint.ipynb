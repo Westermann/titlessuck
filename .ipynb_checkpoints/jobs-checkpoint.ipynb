{
 "cells": [
  {
   "cell_type": "code",
   "execution_count": null,
   "metadata": {
    "autoscroll": false,
    "collapsed": false,
    "ein.tags": "worksheet-0",
    "scrolled": true,
    "slideshow": {
     "slide_type": "-"
    }
   },
   "outputs": [],
   "source": [
    "!pip install xmltodict\n",
    "!pip install beautifulsoup4\n",
    "!pip install --upgrade gensim\n",
    "!pip install langdetect"
   ]
  },
  {
   "cell_type": "code",
   "execution_count": null,
   "metadata": {
    "autoscroll": false,
    "collapsed": false,
    "ein.tags": "worksheet-0",
    "slideshow": {
     "slide_type": "-"
    }
   },
   "outputs": [],
   "source": [
    "!pip install eventlet"
   ]
  },
  {
   "cell_type": "code",
   "execution_count": null,
   "metadata": {
    "autoscroll": false,
    "collapsed": false,
    "ein.tags": "worksheet-0",
    "slideshow": {
     "slide_type": "-"
    }
   },
   "outputs": [],
   "source": [
    "from bs4 import BeautifulSoup\n",
    "from gensim.parsing.preprocessing import preprocess_string\n",
    "from langdetect import detect"
   ]
  },
  {
   "cell_type": "code",
   "execution_count": null,
   "metadata": {
    "autoscroll": false,
    "collapsed": false,
    "ein.tags": "worksheet-0",
    "slideshow": {
     "slide_type": "-"
    }
   },
   "outputs": [],
   "source": [
    "def read_xml(path):\n",
    "    with open(path) as f:\n",
    "        data = f.read()\n",
    "    return data"
   ]
  },
  {
   "cell_type": "code",
   "execution_count": null,
   "metadata": {
    "autoscroll": false,
    "collapsed": false,
    "ein.tags": "worksheet-0",
    "slideshow": {
     "slide_type": "-"
    }
   },
   "outputs": [],
   "source": [
    "def parse(html):\n",
    "    return BeautifulSoup(html, 'html.parser').text.strip()\n",
    "\n",
    "def parse_html(job):\n",
    "    return {\n",
    "        'description': parse(job['description'])\n",
    "    }    "
   ]
  },
  {
   "cell_type": "code",
   "execution_count": 264,
   "metadata": {
    "autoscroll": false,
    "collapsed": false,
    "ein.tags": "worksheet-0",
    "slideshow": {
     "slide_type": "-"
    }
   },
   "outputs": [],
   "source": [
    "def tokenize(line):\n",
    "    return preprocess_string(line)\n",
    "    # return gensim.utils.to_unicode(line).split()"
   ]
  },
  {
   "cell_type": "code",
   "execution_count": null,
   "metadata": {
    "autoscroll": false,
    "collapsed": false,
    "ein.tags": "worksheet-0",
    "slideshow": {
     "slide_type": "-"
    }
   },
   "outputs": [],
   "source": [
    "import xmltodict\n",
    "import os\n",
    "import pandas as pd\n",
    "import eventlet\n",
    "\n",
    "pool = eventlet.GreenPool(100)\n",
    "\n",
    "dirs = (os.path.join(f[0], f[2][0]) for f in os.walk('jobs') if f[2])\n",
    "xmls = pool.imap(read_xml, dirs)\n",
    "# parsed = (xmltodict.parse(el) for el in xmls)\n",
    "parsed = pool.imap(xmltodict.parse, xmls)\n",
    "jobs = (j for item in parsed for j in item['jobs']['job'])\n",
    "descriptions = pool.imap(parse_html, jobs)\n",
    "english = list((j for j in descriptions if detect(j) == 'en'))\n",
    "pd.DataFrame(english).to_csv('descriptions', index=False, encoding = 'utf-8')"
   ]
  },
  {
   "cell_type": "code",
   "execution_count": null,
   "metadata": {
    "autoscroll": false,
    "collapsed": false,
    "ein.tags": "worksheet-0",
    "slideshow": {
     "slide_type": "-"
    }
   },
   "outputs": [],
   "source": [
    "tokens = [tokenize(j) for j in english]"
   ]
  },
  {
   "cell_type": "code",
   "execution_count": null,
   "metadata": {
    "autoscroll": false,
    "collapsed": false,
    "ein.tags": "worksheet-0",
    "slideshow": {
     "slide_type": "-"
    }
   },
   "outputs": [],
   "source": [
    "from gensim.models.doc2vec import Doc2Vec, TaggedDocument\n",
    "from itertools import islice\n",
    "\n",
    "docs = (TaggedDocument(w,[i]) for i,w in enumerate(tokens))"
   ]
  },
  {
   "cell_type": "code",
   "execution_count": null,
   "metadata": {
    "autoscroll": false,
    "collapsed": false,
    "ein.tags": "worksheet-0",
    "slideshow": {
     "slide_type": "-"
    }
   },
   "outputs": [],
   "source": [
    "model = Doc2Vec(documents = docs, dm=0, size = 50, window = 10, workers = 4)\n",
    "model"
   ]
  },
  {
   "cell_type": "code",
   "execution_count": null,
   "metadata": {
    "autoscroll": false,
    "collapsed": false,
    "ein.tags": "worksheet-0",
    "slideshow": {
     "slide_type": "-"
    }
   },
   "outputs": [],
   "source": [
    "model.docvecs.most_similar(20)"
   ]
  },
  {
   "cell_type": "code",
   "execution_count": 312,
   "metadata": {
    "autoscroll": false,
    "collapsed": false,
    "ein.tags": "worksheet-0",
    "slideshow": {
     "slide_type": "-"
    }
   },
   "outputs": [
    {
     "data": {
      "text/plain": [
       "u'Br\\xe6nder du for at skabe sammenh\\xe6ng mellem forretningsbehov og it-l\\xf8sninger, tilbyder vi dig et sp\\xe6ndende job som n\\xf8glespiller p\\xe5 it-projekter, der udvikles af EG til det offentlige Danmark. Jobbet Som Project Manager hos EG Team Online bliver du ansvarlig for leveranceprojekter p\\xe5 vores kernel\\xf8sninger og herunder sikre: Den overordnede koordinering mellem projektets ansvarsomr\\xe5der Afstemning og vedligeholdelse af projektindhold, herunder kontraktstyring Udarbejdelse og vedligeholdelse af projektets hovedplan Realisering af projektets m\\xe5l inden for den fastsatte tid, inden for budgettet og i den aftalte kvalitet L\\xf8bende risikostyring i projektet Koordinering af projektets ressourcer i samarbejde med de teamansvarlige Rapportering af projektstatus og -fremdrift til projektets interessenter Kundevendt program- og projektledelse Deltagelse i styregrupper. Om dig Vi forventer ikke kun, at du er en dygtig projektleder, men ogs\\xe5, at du er drevet af ambitionen om at skabe v\\xe6rdi, og at du kan indleve dig i og har markedskendskab til vores kunders udfordringer. Det er desuden et succeskriterie, at du: Har erfaring med ledelse af st\\xf8rre og mindre it-projekter i offentlig kontekst, herunder kommuner og styrelser Kan dokumentere projekter som er leveret indenfor de aftalte rammer (tid, kvalitet, budget) Har erfaring med offentlige udbudskontrakter Har en god \\xf8konomisk forst\\xe5else Har god forst\\xe5else for kommunikationens facetter og virkemidler i et projektarbejde Har indsigt i forskellige typer af it-l\\xf8sninger og it-platforme Kender til lovgivning m\\xe5lrettet offentlig forvaltning Er certificeret i IPMA eller PRINCE2. Du trives i et uh\\xf8jtideligt milj\\xf8 med plads til forskellighed og t\\xe6t samarbejde med kolleger. Du er en st\\xe6rk kommunikator b\\xe5de mundtligt og skriftligt p\\xe5 b\\xe5de dansk og engelsk. Hvad kan du forvente dig af os? En sp\\xe6ndende arbejdsplads og et professionelt arbejdsmilj\\xf8 med dedikerede kolleger, som har en f\\xe6lles vision om at levere v\\xe6rdiskabende digitale l\\xf8sninger til det offentlige marked. Hos EG Team Online er vi 65 ansatte, som holder til i Thriges gamle produktionshaller i Odense centrum. Vi har stolte traditioner for at have \"fingeren p\\xe5 pulsen\" gennem en t\\xe6t dialog med brugerne af vores systemer. Samarbejdet med brugerne og de eksperter, der leverer viden og indhold til vores produkter, er med til at sikre, at vi udvikler l\\xf8sninger, som matcher virkelighedens udfordringer \\u2013 og opfylder de h\\xf8je kvalitetskrav, vores kunder stiller. Kontakt Er du interesseret i at h\\xf8re mere, inden du s\\xf8ger, er du velkommen til at kontakte Senior Projektleder Charlotte Bech-Madsen p\\xe5 +45 2085 9001, eller direkt\\xf8r Mille Lindskrog Knudsen p\\xe5 telefon +45 2085 9845. Vi behandler ans\\xf8gninger l\\xf8bende, s\\xe5 send gerne din ans\\xf8gning allerede i dag.'"
      ]
     },
     "execution_count": 312,
     "metadata": {},
     "output_type": "execute_result"
    }
   ],
   "source": []
  },
  {
   "cell_type": "code",
   "execution_count": 277,
   "metadata": {
    "autoscroll": false,
    "collapsed": false,
    "ein.tags": "worksheet-0",
    "slideshow": {
     "slide_type": "-"
    }
   },
   "outputs": [],
   "source": [
    "def get_doc(id):\n",
    "    return ' '.join(english[id].words)"
   ]
  },
  {
   "cell_type": "code",
   "execution_count": 247,
   "metadata": {
    "autoscroll": false,
    "collapsed": false,
    "ein.tags": "worksheet-0",
    "slideshow": {
     "slide_type": "-"
    }
   },
   "outputs": [
    {
     "data": {
      "text/plain": [
       "u'DescriptionWhat makes working at Mondel\\u0113z International so special? Many things. The iconic brands and global nature of our business. The continuous innovation and endless opportunities to grow. The chance, each and every day, to put a smile on people\\u2019s faces. We\\u2019re the world\\u2019s leading maker of Chocolate, Biscuits, Candy and Gum with billion-dollar brands like Freia, Kvikk Lunsj, Daim, O\\u2019boy, Oreo and Ritz and we now have an exciting opportunity to join our team.As Commercial Strategy Manager, you will be part of the Category Planning team, which is part of the wider Sales function. You will report directly to the Category Planning Lead \\u2013 Norway, with a dotted line in to the Managing Director \\u2013 Norway. You will be working cross functionally with other departments to deliver the revenue goals for Norway and most importantly be a member of the Norwegian Leadership Team.Primarily, the Planning team is responsible for co-ordinating the delivery of the sales results and developing Trade Strategies for implementation within the Customers. This involves building, managing, tracking and evaluating a Trade Spend budget, used for driving volume, revenue and rate per tonne.Key Responsibilities:Leadership of the transition to Revenue management in Norway.Provide direction for the Sales team to support the delivery of the Category Annual Contract with a focus on price & promo effectiveness and customer / product mix .Agree AC Assumptions for the Category Plan (NPD, Big Bets).Execute the trade investment strategy / budget by setting cost price and promotional mechanics.Strategic customer development \\u2013 identify specific channel and customer growth opportunities (ie. special packs, investment).Translation of the Customer Plans to set AC customer Targets and to optimise customer and product mix.Leadership of the Business Forecast process for Norway.Create a Sales Plan to inform the Demand Planning forecast, co-ordinated through Forecast Surgeries with the Sales team.Co-ordinate the overall category sales performance across the customer base to deliver the sales forecast for the category.Build, manage, track and evaluate trade spend to deliver volume / revenue / RPT KPIs in line with Trade Funds Sign Off (TFSO).Ownership of the forecasting process and tools. Lead the support the Account Managers to design and deliver an effective activity programme for the Customer, aligned to MDLZ category priorities. Lead the tracking progress towards volume, revenue, RPT targets and identify Opps and Risks with Account Managers in forecast surgeries.Lead the post promotion evaluation and performance tracking of Big Bets to help shape the future category plans and trade strategy.QualificationsTo be successful in this role you will need:Sales, category or commercial experience preferred from FMCG industryHighly results orientated, proven results deliveryCourage to challenge the status quo in order to continually improve the way things are done.Challenging, resilient and aggressive, strong drive to winHighly effective influencer & able to build relationships quicklyProven commercial analytical abilitiesProficient in MS office (Excel PowerPoint) and IT literateFluent in English and Norwegian language preferredWe look forward to you joining our team in Oslo, Norway!Primary LocationEU-NO-Oslo-OsloJob scheduleFull-time'"
      ]
     },
     "execution_count": 247,
     "metadata": {},
     "output_type": "execute_result"
    }
   ],
   "source": [
    "get_doc(20)"
   ]
  },
  {
   "cell_type": "code",
   "execution_count": 250,
   "metadata": {
    "autoscroll": false,
    "collapsed": false,
    "ein.tags": "worksheet-0",
    "slideshow": {
     "slide_type": "-"
    }
   },
   "outputs": [
    {
     "data": {
      "text/plain": [
       "u\"DescriptionAccenture\\u2019s Digital Delivery practice is looking for Big Data ArchitectsAs part of the Accenture Digital our Analytics Delivery practice is looking for Big Data Architects to join our team of open-minded, multinational and technology-driven people working strongly together. In Analytics Delivery, we provide the tools for more insightful, faster decision-making and translation of strategic goals into tactical execution in the enterprises. Accenture Digital is one of our four global growth platforms. Together with our clients we are solving challenging and interesting problems to turn data into actionable and meaningful insights for our clients\\u2019 benefit to excel in the new digitalized world. As part of Accenture\\u2019s global team, you will have the opportunity to work with business and technology savvy people with the best practices, tools and technologies relevant to large scale organizations. With our broad global resources and deep technical know-how, we collaborate with clients to cultivate ideas and deliver high-performing results. As a Big Data Architect you will be participating in vendor landscape and technology assessments (covering for example Hadoop, Spark, Kafka, NoSQL etc.) and executing proof of concepts to assess the value of Big Data use cases.You will architect modern data solutions in a hybrid environment of traditional and modern data technologies and build as well as implement architecture roadmaps for next generation Big Data Analytics solutions for our clients.Your tasks also include assessing and defining tactical and strategic opportunities to enable our clients to achieve new business capabilities through the use of Big Data and traditional tools and technologies.Big Data Architect leads and consults the clients in full lifecycle implementation from requirements analysis, platform selection, technical architecture design, application design and development till testing, and deployment.We also expect you to be involved in sales cases of Information Management work, adopting, utilizing and further developing Accenture's Information Management approaches, methodologies and assets and actively participate in related Big Data communities and technology forums.QualificationsMaster's Degree or PhD in Computer Science, Engineering, Technical Science or similarExperience in building and implementing architecture roadmaps for next generation enterprise data and analytics solutionsExperience in designing, building and operationalizing production-grade Big Data solutions using modern data technologies such as Hadoop or NoSQL databasesExperience with open source eco-system components such as Apache Spark, Apache Flume, Apache Oozie, Apache Hive, Apache Drill, Apache Kylin, Apache Flink, Apache HBase, Apache Cassandra, Apache Kafka Hands-on coding experience in one or more of: Scala, Java or PythonStrong interest in growing your own technology skillsWe also value previous experience in some of the following and interest to grow on the others:Experience in architecting large scale Hadoop/NoSQL operational environments for production deploymentsUnderstanding of traditional ETL tools, RDBMS, SQLUnderstanding of metadata management with Hadoop and NoSQL data in a hybrid environmentExperience in large scale cloud data solutions using platforms such as AWS, Azure or Google Cloud Platform Experience in re-architecting and rationalizing traditional data environments with Hadoop or NoSQL technologies Knowledge of enterprise security frameworks and toolsExperience with resource management frameworks such as Docker and/or MesosRelated certifications such as TOGAFWhy Accenture? Accenture offers a unique career experience and unparalleled opportunity for you to grow and advance. We are driven by the best results but we never forget to support each other. We like to challenge our employees and give them the opportunity to shine and succeed. We invest heavily in our people\\u2019s growth and knowledge development.Our best and only asset is our people. We believe they\\u2019re at their best when knowing what is expected from them and we want to support them in different life phases. Our extensive MyWellbeing \\u2013program is one of our key tools for that.You feel inspired? Would you like to be one of us?If you say yes, please send us your cv, application and your salary expectation through our career site.Equal is greater than - Accenture welcomes and encourages applications from diverse backgrounds related to gender, ethnicity, culture, age etc. We provide an environment of inclusion and diversity where everyone brings distinct experience, talent and culture to their work. We invite You to be part of this diversity!Primary LocationNorway-Norway\""
      ]
     },
     "execution_count": 250,
     "metadata": {},
     "output_type": "execute_result"
    }
   ],
   "source": [
    "get_doc(66)"
   ]
  },
  {
   "cell_type": "code",
   "execution_count": null,
   "metadata": {
    "autoscroll": false,
    "collapsed": false,
    "ein.tags": "worksheet-0",
    "slideshow": {
     "slide_type": "-"
    }
   },
   "outputs": [],
   "source": [
    "get_doc(990)"
   ]
  }
 ],
 "metadata": {
  "kernelspec": {
   "display_name": "Python 2",
   "name": "python2"
  },
  "language_info": {
   "codemirror_mode": {
    "name": "ipython",
    "version": 2
   },
   "file_extension": ".py",
   "mimetype": "text/x-python",
   "name": "python",
   "nbconvert_exporter": "python",
   "pygments_lexer": "ipython2",
   "version": "2.7.13"
  },
  "name": "jobs.ipynb"
 },
 "nbformat": 4,
 "nbformat_minor": 2
}
